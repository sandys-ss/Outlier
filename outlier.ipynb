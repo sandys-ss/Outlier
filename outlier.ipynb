{
 "cells": [
  {
   "cell_type": "markdown",
   "metadata": {},
   "source": [
    "## Import Library & Dataset"
   ]
  },
  {
   "cell_type": "code",
   "execution_count": 73,
   "metadata": {},
   "outputs": [],
   "source": [
    "import pandas as pd\n",
    "import matplotlib.pyplot as plt\n",
    "import seaborn as sns\n",
    "import numpy as np\n",
    "from scipy.stats import zscore\n",
    "from scipy import stats"
   ]
  },
  {
   "cell_type": "code",
   "execution_count": 74,
   "metadata": {},
   "outputs": [
    {
     "data": {
      "text/html": [
       "<div>\n",
       "<style scoped>\n",
       "    .dataframe tbody tr th:only-of-type {\n",
       "        vertical-align: middle;\n",
       "    }\n",
       "\n",
       "    .dataframe tbody tr th {\n",
       "        vertical-align: top;\n",
       "    }\n",
       "\n",
       "    .dataframe thead th {\n",
       "        text-align: right;\n",
       "    }\n",
       "</style>\n",
       "<table border=\"1\" class=\"dataframe\">\n",
       "  <thead>\n",
       "    <tr style=\"text-align: right;\">\n",
       "      <th></th>\n",
       "      <th>obs</th>\n",
       "      <th>gpa</th>\n",
       "      <th>iq</th>\n",
       "      <th>gender</th>\n",
       "      <th>concept</th>\n",
       "    </tr>\n",
       "  </thead>\n",
       "  <tbody>\n",
       "    <tr>\n",
       "      <th>0</th>\n",
       "      <td>1</td>\n",
       "      <td>7.940</td>\n",
       "      <td>111</td>\n",
       "      <td>2</td>\n",
       "      <td>67</td>\n",
       "    </tr>\n",
       "    <tr>\n",
       "      <th>1</th>\n",
       "      <td>2</td>\n",
       "      <td>8.292</td>\n",
       "      <td>107</td>\n",
       "      <td>2</td>\n",
       "      <td>43</td>\n",
       "    </tr>\n",
       "    <tr>\n",
       "      <th>2</th>\n",
       "      <td>3</td>\n",
       "      <td>4.643</td>\n",
       "      <td>100</td>\n",
       "      <td>2</td>\n",
       "      <td>52</td>\n",
       "    </tr>\n",
       "    <tr>\n",
       "      <th>3</th>\n",
       "      <td>4</td>\n",
       "      <td>7.470</td>\n",
       "      <td>107</td>\n",
       "      <td>2</td>\n",
       "      <td>66</td>\n",
       "    </tr>\n",
       "    <tr>\n",
       "      <th>4</th>\n",
       "      <td>5</td>\n",
       "      <td>8.882</td>\n",
       "      <td>114</td>\n",
       "      <td>1</td>\n",
       "      <td>58</td>\n",
       "    </tr>\n",
       "  </tbody>\n",
       "</table>\n",
       "</div>"
      ],
      "text/plain": [
       "   obs    gpa   iq  gender  concept\n",
       "0    1  7.940  111       2       67\n",
       "1    2  8.292  107       2       43\n",
       "2    3  4.643  100       2       52\n",
       "3    4  7.470  107       2       66\n",
       "4    5  8.882  114       1       58"
      ]
     },
     "execution_count": 74,
     "metadata": {},
     "output_type": "execute_result"
    }
   ],
   "source": [
    "#import Dataset\n",
    "df = pd.read_csv('IQ_GPA_and_Gender.csv')\n",
    "df.head()"
   ]
  },
  {
   "cell_type": "code",
   "execution_count": 75,
   "metadata": {},
   "outputs": [
    {
     "name": "stdout",
     "output_type": "stream",
     "text": [
      "<class 'pandas.core.frame.DataFrame'>\n",
      "RangeIndex: 78 entries, 0 to 77\n",
      "Data columns (total 5 columns):\n",
      " #   Column   Non-Null Count  Dtype  \n",
      "---  ------   --------------  -----  \n",
      " 0   obs      78 non-null     int64  \n",
      " 1   gpa      78 non-null     float64\n",
      " 2   iq       78 non-null     int64  \n",
      " 3   gender   78 non-null     int64  \n",
      " 4   concept  78 non-null     int64  \n",
      "dtypes: float64(1), int64(4)\n",
      "memory usage: 3.2 KB\n"
     ]
    }
   ],
   "source": [
    "df.info()"
   ]
  },
  {
   "cell_type": "code",
   "execution_count": 76,
   "metadata": {},
   "outputs": [
    {
     "data": {
      "text/html": [
       "<div>\n",
       "<style scoped>\n",
       "    .dataframe tbody tr th:only-of-type {\n",
       "        vertical-align: middle;\n",
       "    }\n",
       "\n",
       "    .dataframe tbody tr th {\n",
       "        vertical-align: top;\n",
       "    }\n",
       "\n",
       "    .dataframe thead th {\n",
       "        text-align: right;\n",
       "    }\n",
       "</style>\n",
       "<table border=\"1\" class=\"dataframe\">\n",
       "  <thead>\n",
       "    <tr style=\"text-align: right;\">\n",
       "      <th></th>\n",
       "      <th>obs</th>\n",
       "      <th>gpa</th>\n",
       "      <th>iq</th>\n",
       "      <th>gender</th>\n",
       "      <th>concept</th>\n",
       "    </tr>\n",
       "  </thead>\n",
       "  <tbody>\n",
       "    <tr>\n",
       "      <th>count</th>\n",
       "      <td>78.000000</td>\n",
       "      <td>78.000000</td>\n",
       "      <td>78.000000</td>\n",
       "      <td>78.000000</td>\n",
       "      <td>78.000000</td>\n",
       "    </tr>\n",
       "    <tr>\n",
       "      <th>mean</th>\n",
       "      <td>42.974359</td>\n",
       "      <td>7.446538</td>\n",
       "      <td>108.923077</td>\n",
       "      <td>1.602564</td>\n",
       "      <td>56.961538</td>\n",
       "    </tr>\n",
       "    <tr>\n",
       "      <th>std</th>\n",
       "      <td>25.889864</td>\n",
       "      <td>2.099557</td>\n",
       "      <td>13.170973</td>\n",
       "      <td>0.492535</td>\n",
       "      <td>12.412229</td>\n",
       "    </tr>\n",
       "    <tr>\n",
       "      <th>min</th>\n",
       "      <td>1.000000</td>\n",
       "      <td>0.530000</td>\n",
       "      <td>72.000000</td>\n",
       "      <td>1.000000</td>\n",
       "      <td>20.000000</td>\n",
       "    </tr>\n",
       "    <tr>\n",
       "      <th>25%</th>\n",
       "      <td>20.250000</td>\n",
       "      <td>6.278000</td>\n",
       "      <td>103.000000</td>\n",
       "      <td>1.000000</td>\n",
       "      <td>51.000000</td>\n",
       "    </tr>\n",
       "    <tr>\n",
       "      <th>50%</th>\n",
       "      <td>42.000000</td>\n",
       "      <td>7.829000</td>\n",
       "      <td>110.000000</td>\n",
       "      <td>2.000000</td>\n",
       "      <td>59.500000</td>\n",
       "    </tr>\n",
       "    <tr>\n",
       "      <th>75%</th>\n",
       "      <td>62.750000</td>\n",
       "      <td>8.983000</td>\n",
       "      <td>117.500000</td>\n",
       "      <td>2.000000</td>\n",
       "      <td>66.000000</td>\n",
       "    </tr>\n",
       "    <tr>\n",
       "      <th>max</th>\n",
       "      <td>89.000000</td>\n",
       "      <td>10.760000</td>\n",
       "      <td>136.000000</td>\n",
       "      <td>2.000000</td>\n",
       "      <td>80.000000</td>\n",
       "    </tr>\n",
       "  </tbody>\n",
       "</table>\n",
       "</div>"
      ],
      "text/plain": [
       "             obs        gpa          iq     gender    concept\n",
       "count  78.000000  78.000000   78.000000  78.000000  78.000000\n",
       "mean   42.974359   7.446538  108.923077   1.602564  56.961538\n",
       "std    25.889864   2.099557   13.170973   0.492535  12.412229\n",
       "min     1.000000   0.530000   72.000000   1.000000  20.000000\n",
       "25%    20.250000   6.278000  103.000000   1.000000  51.000000\n",
       "50%    42.000000   7.829000  110.000000   2.000000  59.500000\n",
       "75%    62.750000   8.983000  117.500000   2.000000  66.000000\n",
       "max    89.000000  10.760000  136.000000   2.000000  80.000000"
      ]
     },
     "execution_count": 76,
     "metadata": {},
     "output_type": "execute_result"
    }
   ],
   "source": [
    "df.describe()"
   ]
  },
  {
   "cell_type": "markdown",
   "metadata": {},
   "source": [
    "## Data Visualization"
   ]
  },
  {
   "cell_type": "code",
   "execution_count": 77,
   "metadata": {},
   "outputs": [
    {
     "data": {
      "image/png": "[encoded data removed]",
      "text/plain": [
       "<Figure size 640x480 with 1 Axes>"
      ]
     },
     "metadata": {},
     "output_type": "display_data"
    }
   ],
   "source": [
    "sns.boxplot(data=df, x=\"iq\")\n",
    "plt.show()"
   ]
  },
  {
   "cell_type": "code",
   "execution_count": 78,
   "metadata": {},
   "outputs": [
    {
     "data": {
      "image/png": "[encoded data removed]",
      "text/plain": [
       "<Figure size 800x400 with 1 Axes>"
      ]
     },
     "metadata": {},
     "output_type": "display_data"
    }
   ],
   "source": [
    "# Buat scatter plot\n",
    "plt.figure(figsize=(8, 4))\n",
    "sns.scatterplot(x=df.index, y=df[\"iq\"])\n",
    "\n",
    "# Atur label sumbu\n",
    "plt.xlabel(\"Index\")\n",
    "plt.ylabel(\"IQ\")\n",
    "\n",
    "# Tampilkan plot\n",
    "plt.show()"
   ]
  },
  {
   "cell_type": "code",
   "execution_count": 79,
   "metadata": {},
   "outputs": [
    {
     "data": {
      "image/png": "[encoded data removed]",
      "text/plain": [
       "<Figure size 640x480 with 1 Axes>"
      ]
     },
     "metadata": {},
     "output_type": "display_data"
    }
   ],
   "source": [
    "df[\"iq\"].hist(bins=20)\n",
    "plt.show()"
   ]
  },
  {
   "cell_type": "code",
   "execution_count": 80,
   "metadata": {},
   "outputs": [
    {
     "name": "stdout",
     "output_type": "stream",
     "text": [
      "Count of outliers in column 'iq': 4\n",
      "Percentage of outliers in column 'iq': 5.13%\n",
      "\n",
      "Lower : 81.25\n",
      "Upper : 139.25\n",
      "\n",
      "Data Outlier': [72 79 74 77]\n"
     ]
    }
   ],
   "source": [
    "columns = ['iq']\n",
    "outlier_percentage = {}\n",
    "\n",
    "for column in columns:\n",
    "    column_data = df[column]\n",
    "\n",
    "    Q1 = np.percentile(column_data, 25)\n",
    "    Q3 = np.percentile(column_data, 75)\n",
    "    IQR = Q3 - Q1\n",
    "\n",
    "    lower = Q1 - 1.5 * IQR\n",
    "    upper = Q3 + 1.5 * IQR\n",
    "\n",
    "    outliers = column_data[(column_data < lower) | (column_data > upper)]\n",
    "    outlier_percentage[column] = len(outliers) / len(column_data) * 100\n",
    "\n",
    "# Display the outlier percentage for each column\n",
    "for column, percentage in outlier_percentage.items():\n",
    "    print(f\"Count of outliers in column '{column}': {len(outliers)}\")\n",
    "    print(f\"Percentage of outliers in column '{column}': {percentage:.2f}%\")\n",
    "    print()\n",
    "    print(f\"Lower : {lower}\")\n",
    "    print(f\"Upper : {upper}\")\n",
    "    print()\n",
    "    print(f\"Data Outlier': {np.array(outliers)}\")"
   ]
  },
  {
   "cell_type": "markdown",
   "metadata": {},
   "source": [
    "## New Dataset"
   ]
  },
  {
   "cell_type": "code",
   "execution_count": 81,
   "metadata": {},
   "outputs": [
    {
     "name": "stdout",
     "output_type": "stream",
     "text": [
      "   obs    gpa   iq  gender  concept\n",
      "0    1  7.940  111       2       67\n",
      "1    2  8.292  107       2       43\n",
      "2    3  4.643  100       2       52\n",
      "3    4  7.470  107       2       66\n",
      "4    5  8.882  114       1       58\n"
     ]
    }
   ],
   "source": [
    "# Menentukan mean dan standar deviasi\n",
    "mean_iq = 100\n",
    "std_dev_iq = 15\n",
    "\n",
    "# Membuat dataset dengan distribusi normal\n",
    "np.random.seed(0) # untuk hasil yang konsisten\n",
    "data_iq = np.random.normal(mean_iq, std_dev_iq, 1000)\n",
    "\n",
    "# Membuat DataFrame dari data\n",
    "new_df = pd.DataFrame(data_iq, columns=['IQ'])\n",
    "\n",
    "# Menampilkan 5 baris pertama dari DataFrame\n",
    "print(df.head())\n"
   ]
  },
  {
   "cell_type": "code",
   "execution_count": 82,
   "metadata": {},
   "outputs": [
    {
     "data": {
      "image/png": "[encoded data removed]",
      "text/plain": [
       "<Figure size 640x480 with 1 Axes>"
      ]
     },
     "metadata": {},
     "output_type": "display_data"
    }
   ],
   "source": [
    "new_df[\"IQ\"].hist(bins=20)\n",
    "plt.show()"
   ]
  },
  {
   "cell_type": "code",
   "execution_count": 83,
   "metadata": {},
   "outputs": [
    {
     "name": "stdout",
     "output_type": "stream",
     "text": [
      "Batas Atas:  143.75986644390017\n",
      "Batas Bawah:  54.88243233139401\n",
      "Outlier:  [54.30785418]\n"
     ]
    }
   ],
   "source": [
    "# Menghitung Z-score\n",
    "z_scores = zscore(new_df['IQ'])\n",
    "\n",
    "# Menentukan batas untuk outlier, misalnya nilai absolut dari Z-score > 3\n",
    "batas_atas = new_df['IQ'].mean() + 3*new_df['IQ'].std()\n",
    "batas_bawah = new_df['IQ'].mean() - 3*new_df['IQ'].std()\n",
    "\n",
    "# Menampilkan batas atas dan bawah\n",
    "print(\"Batas Atas: \", batas_atas)\n",
    "print(\"Batas Bawah: \", batas_bawah)\n",
    "\n",
    "# Menemukan outlier\n",
    "outliers = np.where(np.abs(z_scores) > 3)\n",
    "\n",
    "# Menampilkan outlier\n",
    "print(\"Outlier: \", np.array(new_df['IQ'].iloc[outliers]))\n"
   ]
  },
  {
   "cell_type": "markdown",
   "metadata": {},
   "source": [
    "## Handle Outlier"
   ]
  },
  {
   "cell_type": "markdown",
   "metadata": {},
   "source": [
    "### Remove Outlier"
   ]
  },
  {
   "cell_type": "code",
   "execution_count": 84,
   "metadata": {},
   "outputs": [
    {
     "name": "stdout",
     "output_type": "stream",
     "text": [
      "    obs    gpa   iq  gender  concept\n",
      "0     1  7.940  111       2       67\n",
      "1     2  8.292  107       2       43\n",
      "2     3  4.643  100       2       52\n",
      "3     4  7.470  107       2       66\n",
      "4     5  8.882  114       1       58\n",
      "..  ...    ...  ...     ...      ...\n",
      "73   85  9.000  112       1       60\n",
      "74   86  9.500  112       1       70\n",
      "75   87  6.057  114       2       51\n",
      "76   88  6.057   93       1       21\n",
      "77   89  6.938  106       2       56\n",
      "\n",
      "[74 rows x 5 columns]\n"
     ]
    }
   ],
   "source": [
    "columns = ['iq']\n",
    "\n",
    "for column in columns:\n",
    "    column_data = df[column]\n",
    "\n",
    "    Q1 = np.percentile(column_data, 25)\n",
    "    Q3 = np.percentile(column_data, 75)\n",
    "    IQR = Q3 - Q1\n",
    "\n",
    "    lower = Q1 - 1.5 * IQR\n",
    "    upper = Q3 + 1.5 * IQR\n",
    "\n",
    "    # Menemukan outlier\n",
    "    outliers = column_data[(column_data < lower) | (column_data > upper)]\n",
    "\n",
    "    # Menghapus outlier\n",
    "    df_no_outliers = df[(column_data >= lower) & (column_data <= upper)]\n",
    "\n",
    "    # Menampilkan dataset tanpa outlier\n",
    "    print(df_no_outliers)"
   ]
  },
  {
   "cell_type": "code",
   "execution_count": 85,
   "metadata": {},
   "outputs": [
    {
     "name": "stdout",
     "output_type": "stream",
     "text": [
      "Count of outliers in column 'iq': 0\n",
      "Percentage of outliers in column 'iq': 0.00%\n",
      "\n",
      "Lower : 83.0\n",
      "Upper : 139.0\n",
      "\n",
      "Data Outlier': []\n"
     ]
    }
   ],
   "source": [
    "columns = ['iq']\n",
    "outlier_percentage = {}\n",
    "\n",
    "for column in columns:\n",
    "    column_data = df_no_outliers[column]\n",
    "\n",
    "    Q1 = np.percentile(column_data, 25)\n",
    "    Q3 = np.percentile(column_data, 75)\n",
    "    IQR = Q3 - Q1\n",
    "\n",
    "    lower = Q1 - 1.5 * IQR\n",
    "    upper = Q3 + 1.5 * IQR\n",
    "\n",
    "    outliers = column_data[(column_data < lower) | (column_data > upper)]\n",
    "    outlier_percentage[column] = len(outliers) / len(column_data) * 100\n",
    "\n",
    "# Display the outlier percentage for each column\n",
    "for column, percentage in outlier_percentage.items():\n",
    "    print(f\"Count of outliers in column '{column}': {len(outliers)}\")\n",
    "    print(f\"Percentage of outliers in column '{column}': {percentage:.2f}%\")\n",
    "    print()\n",
    "    print(f\"Lower : {lower}\")\n",
    "    print(f\"Upper : {upper}\")\n",
    "    print()\n",
    "    print(f\"Data Outlier': {np.array(outliers)}\")"
   ]
  },
  {
   "cell_type": "markdown",
   "metadata": {},
   "source": [
    "### Imputation - Median"
   ]
  },
  {
   "cell_type": "code",
   "execution_count": 86,
   "metadata": {},
   "outputs": [
    {
     "name": "stdout",
     "output_type": "stream",
     "text": [
      "    obs    gpa   iq  gender  concept\n",
      "0     1  7.940  111       2       67\n",
      "1     2  8.292  107       2       43\n",
      "2     3  4.643  100       2       52\n",
      "3     4  7.470  107       2       66\n",
      "4     5  8.882  114       1       58\n",
      "..  ...    ...  ...     ...      ...\n",
      "73   85  9.000  112       1       60\n",
      "74   86  9.500  112       1       70\n",
      "75   87  6.057  114       2       51\n",
      "76   88  6.057   93       1       21\n",
      "77   89  6.938  106       2       56\n",
      "\n",
      "[78 rows x 5 columns]\n"
     ]
    },
    {
     "name": "stderr",
     "output_type": "stream",
     "text": [
      "C:\\Users\\USER\\AppData\\Local\\Temp\\ipykernel_22092\\2803660232.py:20: SettingWithCopyWarning: \n",
      "A value is trying to be set on a copy of a slice from a DataFrame\n",
      "\n",
      "See the caveats in the documentation: https://pandas.pydata.org/pandas-docs/stable/user_guide/indexing.html#returning-a-view-versus-a-copy\n",
      "  column_data[(column_data < lower) | (column_data > upper)] = median\n"
     ]
    }
   ],
   "source": [
    "df_median = df.copy()\n",
    "\n",
    "for column in columns:\n",
    "    column_data = df_median[column]\n",
    "\n",
    "    Q1 = np.percentile(column_data, 25)\n",
    "    Q3 = np.percentile(column_data, 75)\n",
    "    IQR = Q3 - Q1\n",
    "\n",
    "    lower = Q1 - 1.5 * IQR\n",
    "    upper = Q3 + 1.5 * IQR\n",
    "\n",
    "    # Menemukan outlier\n",
    "    outliers = column_data[(column_data < lower) | (column_data > upper)]\n",
    "\n",
    "    # Menghitung median\n",
    "    median = column_data.median()\n",
    "\n",
    "    # Mengganti outlier dengan median\n",
    "    column_data[(column_data < lower) | (column_data > upper)] = median\n",
    "\n",
    "    # Menampilkan data setelah penggantian outlier\n",
    "    print(df_median)\n"
   ]
  },
  {
   "cell_type": "code",
   "execution_count": 87,
   "metadata": {},
   "outputs": [
    {
     "name": "stdout",
     "output_type": "stream",
     "text": [
      "Count of outliers in column 'iq': 0\n",
      "Percentage of outliers in column 'iq': 0.00%\n",
      "\n",
      "Lower : 84.375\n",
      "Upper : 137.375\n",
      "\n",
      "Data Outlier': []\n"
     ]
    }
   ],
   "source": [
    "columns = ['iq']\n",
    "outlier_percentage = {}\n",
    "\n",
    "for column in columns:\n",
    "    column_data = df_median[column]\n",
    "\n",
    "    Q1 = np.percentile(column_data, 25)\n",
    "    Q3 = np.percentile(column_data, 75)\n",
    "    IQR = Q3 - Q1\n",
    "\n",
    "    lower = Q1 - 1.5 * IQR\n",
    "    upper = Q3 + 1.5 * IQR\n",
    "\n",
    "    outliers = column_data[(column_data < lower) | (column_data > upper)]\n",
    "    outlier_percentage[column] = len(outliers) / len(column_data) * 100\n",
    "\n",
    "# Display the outlier percentage for each column\n",
    "for column, percentage in outlier_percentage.items():\n",
    "    print(f\"Count of outliers in column '{column}': {len(outliers)}\")\n",
    "    print(f\"Percentage of outliers in column '{column}': {percentage:.2f}%\")\n",
    "    print()\n",
    "    print(f\"Lower : {lower}\")\n",
    "    print(f\"Upper : {upper}\")\n",
    "    print()\n",
    "    print(f\"Data Outlier': {np.array(outliers)}\")"
   ]
  }
 ],
 "metadata": {
  "kernelspec": {
   "display_name": "Python 3",
   "language": "python",
   "name": "python3"
  },
  "language_info": {
   "codemirror_mode": {
    "name": "ipython",
    "version": 3
   },
   "file_extension": ".py",
   "mimetype": "text/x-python",
   "name": "python",
   "nbconvert_exporter": "python",
   "pygments_lexer": "ipython3",
   "version": "3.10.4"
  }
 },
 "nbformat": 4,
 "nbformat_minor": 2
}
